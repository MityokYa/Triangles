{
 "cells": [
  {
   "cell_type": "code",
   "execution_count": 7,
   "metadata": {},
   "outputs": [
    {
     "name": "stdout",
     "output_type": "stream",
     "text": [
      "Ввредите длины сторон\n",
      "2\n",
      "5\n",
      "4\n"
     ]
    }
   ],
   "source": [
    "print(\"Ввредите длины сторон\")\n",
    "a = int(input())\n",
    "b = int(input())\n",
    "c = int(input())"
   ]
  },
  {
   "cell_type": "code",
   "execution_count": 8,
   "metadata": {},
   "outputs": [
    {
     "name": "stdout",
     "output_type": "stream",
     "text": [
      "2 4 5\n"
     ]
    }
   ],
   "source": [
    "while a>b or b>c:\n",
    "    if a>b:\n",
    "        x = a\n",
    "        a = b\n",
    "        b = x\n",
    "    if b>c:\n",
    "        y = b\n",
    "        b = c\n",
    "        c = y\n",
    "print(a, b, c)"
   ]
  },
  {
   "cell_type": "code",
   "execution_count": 9,
   "metadata": {},
   "outputs": [
    {
     "name": "stdout",
     "output_type": "stream",
     "text": [
      "Треугольник существует\n"
     ]
    }
   ],
   "source": [
    "if c < a + b:\n",
    "    print(\"Треугольник существует\")\n",
    "    f = 1\n",
    "else:\n",
    "    print(\"Треугольник не существует\")\n",
    "    f = 0"
   ]
  },
  {
   "cell_type": "code",
   "execution_count": 10,
   "metadata": {},
   "outputs": [
    {
     "name": "stdout",
     "output_type": "stream",
     "text": [
      "Треугольник тупоугольный\n"
     ]
    }
   ],
   "source": [
    "if f == 1:\n",
    "    if c**2 == a**2 + b**2:\n",
    "        print(\"Треугольник прямоугольный\")\n",
    "    elif c**2 < a**2 + b**2:\n",
    "        print(\"Треугольник остроугольный\")\n",
    "    elif c**2 > a**2 + b**2:\n",
    "        print(\"Треугольник тупоугольный\")"
   ]
  },
  {
   "cell_type": "code",
   "execution_count": null,
   "metadata": {},
   "outputs": [],
   "source": []
  }
 ],
 "metadata": {
  "kernelspec": {
   "display_name": "Python 3",
   "language": "python",
   "name": "python3"
  },
  "language_info": {
   "codemirror_mode": {
    "name": "ipython",
    "version": 3
   },
   "file_extension": ".py",
   "mimetype": "text/x-python",
   "name": "python",
   "nbconvert_exporter": "python",
   "pygments_lexer": "ipython3",
   "version": "3.8.5"
  }
 },
 "nbformat": 4,
 "nbformat_minor": 4
}
